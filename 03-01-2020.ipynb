{
 "cells": [
  {
   "cell_type": "markdown",
   "metadata": {},
   "source": [
    "## Functons and its types\n",
    "### What is a function\n",
    "```\n",
    "def fun(name,age=25):#position,default valuw,keyword,variable length\n",
    "    statements\n",
    "    ...\n",
    "    ...\n",
    "    ...\n",
    "    return value\n",
    "fun(25,'c')\n",
    "fun('c',25)\n",
    "fun('c')\n",
    "fun('c',10,20,30)#after the firsat argument all the values are taken by second argument \n",
    "    ```"
   ]
  },
  {
   "cell_type": "code",
   "execution_count": 17,
   "metadata": {},
   "outputs": [
    {
     "name": "stdout",
     "output_type": "stream",
     "text": [
      "anits college\n"
     ]
    }
   ],
   "source": [
    "#without return value and without argument\n",
    "def fun():\n",
    "    print(\"anits college\")\n",
    "fun()"
   ]
  },
  {
   "cell_type": "code",
   "execution_count": 18,
   "metadata": {},
   "outputs": [
    {
     "name": "stdout",
     "output_type": "stream",
     "text": [
      "anits\n"
     ]
    }
   ],
   "source": [
    "#without return value and with argument\n",
    "def fun(a):\n",
    "    print(a)\n",
    "fun('anits')"
   ]
  },
  {
   "cell_type": "code",
   "execution_count": 19,
   "metadata": {},
   "outputs": [
    {
     "data": {
      "text/plain": [
       "'hello'"
      ]
     },
     "execution_count": 19,
     "metadata": {},
     "output_type": "execute_result"
    }
   ],
   "source": [
    "#with return value and without argument\n",
    "def fun():\n",
    "    a='hello'\n",
    "    return a\n",
    "fun()"
   ]
  },
  {
   "cell_type": "code",
   "execution_count": 20,
   "metadata": {},
   "outputs": [
    {
     "data": {
      "text/plain": [
       "'anits'"
      ]
     },
     "execution_count": 20,
     "metadata": {},
     "output_type": "execute_result"
    }
   ],
   "source": [
    "#with return value and with argument\n",
    "def fun(a):\n",
    "    return a\n",
    "fun('anits')"
   ]
  },
  {
   "cell_type": "code",
   "execution_count": 12,
   "metadata": {},
   "outputs": [
    {
     "name": "stdout",
     "output_type": "stream",
     "text": [
      "2000\n"
     ]
    },
    {
     "data": {
      "text/plain": [
       "True"
      ]
     },
     "execution_count": 12,
     "metadata": {},
     "output_type": "execute_result"
    }
   ],
   "source": [
    "#python code using args and return value to find leapyear\n",
    "def isleapyear(y):\n",
    "    if(y%400==0) or (y%4==0 and y%100!=0):\n",
    "        return True\n",
    "    return False\n",
    "a=int(input())\n",
    "isleapyear(a)"
   ]
  },
  {
   "cell_type": "code",
   "execution_count": 16,
   "metadata": {},
   "outputs": [
    {
     "name": "stdout",
     "output_type": "stream",
     "text": [
      "1900\n"
     ]
    },
    {
     "data": {
      "text/plain": [
       "31536000000000000"
      ]
     },
     "execution_count": 16,
     "metadata": {},
     "output_type": "execute_result"
    }
   ],
   "source": [
    "#print the nanoseconds of the year,consider leap year(366 days)\n",
    "def nanos(y):\n",
    "    #if(y%400==0) or (y%4==0 and y%100!=0):\n",
    "    if(isleapyear(y)):\n",
    "        n=(366*24*60*60*1000*1000000)\n",
    "        return n\n",
    "    else:\n",
    "        n=(365*24*60*60*1000*1000000)\n",
    "        return n\n",
    "nanos(int(input()))"
   ]
  },
  {
   "cell_type": "code",
   "execution_count": 3,
   "metadata": {},
   "outputs": [
    {
     "name": "stdout",
     "output_type": "stream",
     "text": [
      "17\n",
      "given number 17 is  prime\n"
     ]
    }
   ],
   "source": [
    "#print whether the given number is prime number or not\n",
    "def isprime(x):\n",
    "    if(x<=1):\n",
    "        return False\n",
    "    for i in range(2,x):#check from 2 to x-1\n",
    "        if(x%i==0):\n",
    "            return False\n",
    "    return True\n",
    "x=int(input())\n",
    "if(isprime(x)):\n",
    "    print(\"given number {} is  prime\".format(x))\n",
    "else:\n",
    "    print(\"given number {} is not prime\".format(x))"
   ]
  },
  {
   "cell_type": "code",
   "execution_count": 11,
   "metadata": {
    "scrolled": true
   },
   "outputs": [
    {
     "name": "stdout",
     "output_type": "stream",
     "text": [
      "25\n",
      "2 3 5 7 11 13 17 19 23 29 31 37 41 43 47 53 59 61 67 71 73 79 83 89 97 "
     ]
    }
   ],
   "source": [
    "#print prime numbers upto given number\n",
    "l=0\n",
    "b=int(input())\n",
    "#n=int(input())\n",
    "i=2\n",
    "#for i in range(2,n):\n",
    "while True:\n",
    "    if(isprime(i)):\n",
    "        print(i,end=\" \")\n",
    "        l+=1\n",
    "    if(l==b):\n",
    "        break\n",
    "    i+=1"
   ]
  },
  {
   "cell_type": "code",
   "execution_count": 13,
   "metadata": {},
   "outputs": [
    {
     "name": "stdout",
     "output_type": "stream",
     "text": [
      "1111111346\n",
      "invalid number\n"
     ]
    }
   ],
   "source": [
    "# ^[9][1][6-9][0-9]{9}$|^[6-9][0-9]{9}|^[0][6-9][0-9]{9}\n",
    "import re\n",
    "i=int(input())\n",
    "p='^[9][1][6-9][0-9]{9}$|^[6-9][0-9]{9}|^[0][6-9][0-9]{9}'\n",
    "if re.match(p,str(i)):\n",
    "    print(\"valid number\")\n",
    "else:\n",
    "    print(\"invalid number\")"
   ]
  },
  {
   "cell_type": "code",
   "execution_count": 14,
   "metadata": {},
   "outputs": [
    {
     "name": "stdout",
     "output_type": "stream",
     "text": [
      "found\n"
     ]
    }
   ],
   "source": [
    "import re\n",
    "p='This is python workshop'\n",
    "if(re.search('python',p)):\n",
    "    print(\"found\")\n",
    "else:\n",
    "    print(\"not found\")"
   ]
  },
  {
   "cell_type": "code",
   "execution_count": 16,
   "metadata": {},
   "outputs": [
    {
     "name": "stdout",
     "output_type": "stream",
     "text": [
      "fkh.djh124@gmialcom\n",
      "invalid email\n"
     ]
    }
   ],
   "source": [
    "import re\n",
    "i=input()\n",
    "#p='^[a-z.@_0-9]{5,}$'\n",
    "p='^[a-z.0-9]{5,}[@][a-z]{1,}[.][a-z]{1,}$'\n",
    "if re.match(p,str(i)):\n",
    "    print(\"valid email\")\n",
    "else:\n",
    "    print(\"invalid email\")"
   ]
  },
  {
   "cell_type": "markdown",
   "metadata": {},
   "source": [
    "## Data structures in python:\n",
    "### Similar to collections simply call it as iterators\n",
    "```\n",
    "    - List\n",
    "    - Tuple\n",
    "    - Set snd\n",
    "    - Dictionary\n",
    "    ```"
   ]
  },
  {
   "cell_type": "markdown",
   "metadata": {},
   "source": [
    "# List:\n",
    "```\n",
    "    -Collections of heterogenous(different) type of data elements \n",
    "    -It can be defined as [] and can be typecasted by list() method\n",
    "    -It can changes the values,slicing is done due to index \n",
    "    -Ordered format of data because index\n",
    "    ```"
   ]
  },
  {
   "cell_type": "code",
   "execution_count": 18,
   "metadata": {},
   "outputs": [
    {
     "name": "stdout",
     "output_type": "stream",
     "text": [
      "['__add__', '__class__', '__contains__', '__delattr__', '__delitem__', '__dir__', '__doc__', '__eq__', '__format__', '__ge__', '__getattribute__', '__getitem__', '__gt__', '__hash__', '__iadd__', '__imul__', '__init__', '__init_subclass__', '__iter__', '__le__', '__len__', '__lt__', '__mul__', '__ne__', '__new__', '__reduce__', '__reduce_ex__', '__repr__', '__reversed__', '__rmul__', '__setattr__', '__setitem__', '__sizeof__', '__str__', '__subclasshook__', 'append', 'clear', 'copy', 'count', 'extend', 'index', 'insert', 'pop', 'remove', 'reverse', 'sort']\n"
     ]
    }
   ],
   "source": [
    "print(dir(list))"
   ]
  },
  {
   "cell_type": "code",
   "execution_count": 43,
   "metadata": {},
   "outputs": [
    {
     "name": "stdout",
     "output_type": "stream",
     "text": [
      "[2, 3, 4, 456, 54]\n",
      "<class 'list'>\n",
      "456\n",
      "[4, 456, 54]\n",
      "[]\n",
      "[3, 4, 456]\n",
      "[54, 456, 4]\n",
      "[]\n",
      "[54, 456, 4]\n",
      "[]\n",
      "[]\n",
      "[3, 4, 456]\n",
      "[2, 3, 4, 54, 456]\n",
      "[2, 3, 4, 54, 456, 100]\n",
      "[2, 3, 4, 54, 456, 100]\n",
      "1\n",
      "None\n",
      "[2, 3, 4, 54, 456, 100, 2, 3, 4, 54, 456, 100]\n",
      "[2, 3, 4, 54, 456, 100]\n",
      "[2, 3, 4, 54, 456, 100, 2, 3, 4, 54, 456, 100, 2, 3, 4, 54, 456, 100]\n",
      "[2, 3, 4, 54, 456, 100, 2, 3, 4, 54, 456, 100]\n",
      "[2, 3, 4, 54, 456, 100]\n"
     ]
    }
   ],
   "source": [
    "p=[2,3,4,456,54]\n",
    "print(p)\n",
    "print(type(p))\n",
    "print(p[3])\n",
    "print(p[2:5])\n",
    "print(p[1:4:-1])\n",
    "print(p[1:4:1])\n",
    "print(p[4:1:-1])\n",
    "print(p[4:1:1])\n",
    "print(p[-1:-4:-1])\n",
    "print(p[-1:-4:1])\n",
    "print(p[-4:-1:-1])\n",
    "print(p[-4:-1:1])\n",
    "p.sort()\n",
    "print(p)\n",
    "p.append(100)\n",
    "print(p)\n",
    "k=p.copy()\n",
    "print(k)\n",
    "print(p.count(100))\n",
    "c=k.extend(p)\n",
    "print(c)\n",
    "print(k)\n",
    "print(p)\n",
    "c=k+p\n",
    "print(c)\n",
    "print(k)\n",
    "print(p)"
   ]
  },
  {
   "cell_type": "code",
   "execution_count": 55,
   "metadata": {},
   "outputs": [
    {
     "name": "stdout",
     "output_type": "stream",
     "text": [
      "8\n",
      "[1, 1, 1, 1, 1, 1, 1, 1, 54, 100]\n",
      "[1, 1, 1, 1, 1, 1, 1, 54, 100]\n",
      "[1, 1, 1, 1, 1, 1, 54, 100]\n",
      "[100, 54, 1, 1, 1, 1, 1, 1]\n"
     ]
    }
   ],
   "source": [
    "print(p.index(100))\n",
    "p.insert(0,1)\n",
    "print(p)\n",
    "p.pop(7)#removes the value at index 7\n",
    "print(p)\n",
    "p.remove(1)#removes the value 456\n",
    "print(p)\n",
    "p.reverse()\n",
    "print(p)"
   ]
  },
  {
   "cell_type": "code",
   "execution_count": 56,
   "metadata": {},
   "outputs": [
    {
     "name": "stdout",
     "output_type": "stream",
     "text": [
      "[100, 54, 1, 1, 1, 1, 1, 1]\n",
      "[100, 54, 1, 1, 1, 1, 1, 1]\n"
     ]
    }
   ],
   "source": [
    "print(p)\n",
    "p.sort(reverse=True)\n",
    "print(p)"
   ]
  },
  {
   "cell_type": "code",
   "execution_count": 57,
   "metadata": {},
   "outputs": [
    {
     "name": "stdout",
     "output_type": "stream",
     "text": [
      "[100, 54, 1, 1, 1, 1, 1, 1]\n",
      "[]\n"
     ]
    }
   ],
   "source": [
    "print(p)\n",
    "p.clear()#clears the values in list but not list\n",
    "print(p)"
   ]
  },
  {
   "cell_type": "code",
   "execution_count": 5,
   "metadata": {},
   "outputs": [
    {
     "name": "stdout",
     "output_type": "stream",
     "text": [
      "23 54 34 "
     ]
    }
   ],
   "source": [
    "n=[23,54,'y',34,'sd']\n",
    "for i in n:\n",
    "    if str(i).isdigit():\n",
    "        print(i,end=\" \")"
   ]
  },
  {
   "cell_type": "code",
   "execution_count": 27,
   "metadata": {},
   "outputs": [
    {
     "name": "stdout",
     "output_type": "stream",
     "text": [
      "12 23 45 54 sdf dgf\n",
      "[12, 23, 45, 54]\n",
      "['dgf', 'sdf']\n"
     ]
    }
   ],
   "source": [
    "n=input().split()\n",
    "no=[]\n",
    "st=[]\n",
    "for i in n:\n",
    "    if str(i).isdigit():\n",
    "        no.append(int(i))\n",
    "    else:\n",
    "        st.append(i)\n",
    "no.sort()\n",
    "st.sort()\n",
    "print(no)\n",
    "print(st)"
   ]
  },
  {
   "cell_type": "markdown",
   "metadata": {},
   "source": [
    "## TUPLE:\n",
    "```\n",
    "    -Collection of heterogenous data type elements\n",
    "    -It can be defined as () and typescasting as tuple()\n",
    "    -It cannot be change the values,slicing can be done \n",
    "    -Based on index the slicing is done and it is also ordered data\n",
    "    ```"
   ]
  },
  {
   "cell_type": "code",
   "execution_count": 25,
   "metadata": {},
   "outputs": [
    {
     "name": "stdout",
     "output_type": "stream",
     "text": [
      "(23, 34, 34.0, 45, 56, 'kiran')\n",
      "<class 'tuple'>\n",
      "34.0\n",
      "(34, 34.0, 45)\n",
      "(23, 34, 34.0)\n",
      "1\n",
      "1\n",
      "1\n",
      "1\n"
     ]
    }
   ],
   "source": [
    "t=(23,34,34.0,45,56,'kiran')\n",
    "print(t)\n",
    "print(type(t))\n",
    "print(t[2])\n",
    "print(t[1:4])\n",
    "print(t[0:3:1])\n",
    "print(t.count(45))\n",
    "print(t.index(34))\n",
    "print(t.count(45))\n",
    "print(t.index(34.0))"
   ]
  },
  {
   "cell_type": "code",
   "execution_count": 20,
   "metadata": {},
   "outputs": [
    {
     "name": "stdout",
     "output_type": "stream",
     "text": [
      "['__add__', '__class__', '__contains__', '__delattr__', '__dir__', '__doc__', '__eq__', '__format__', '__ge__', '__getattribute__', '__getitem__', '__getnewargs__', '__gt__', '__hash__', '__init__', '__init_subclass__', '__iter__', '__le__', '__len__', '__lt__', '__mul__', '__ne__', '__new__', '__reduce__', '__reduce_ex__', '__repr__', '__rmul__', '__setattr__', '__sizeof__', '__str__', '__subclasshook__', 'count', 'index']\n"
     ]
    }
   ],
   "source": [
    "print(dir(tuple))"
   ]
  },
  {
   "cell_type": "markdown",
   "metadata": {},
   "source": [
    "## SETS\n",
    "```\n",
    "    -Collection of hetrogenous data elements\n",
    "    -It can be defined as {} and typecasted as set()\n",
    "    -It can change the value but it doesnot supports the slicing\n",
    "    -Unordered format data,index is not available\n",
    "    -Removes duplicate elements\n",
    "    ```"
   ]
  },
  {
   "cell_type": "code",
   "execution_count": 34,
   "metadata": {},
   "outputs": [
    {
     "name": "stdout",
     "output_type": "stream",
     "text": [
      "{33, 34, 3, 34.564, 'somu', 23, 'rajesh'}\n"
     ]
    }
   ],
   "source": [
    "g={34,3,3,3,3,3,3,33,34.564,'rajesh',23,'somu',3}\n",
    "print(g)"
   ]
  },
  {
   "cell_type": "code",
   "execution_count": 33,
   "metadata": {},
   "outputs": [
    {
     "data": {
      "text/plain": [
       "{23, 3, 34, 34.564, 'rajesh', 'somu'}"
      ]
     },
     "execution_count": 33,
     "metadata": {},
     "output_type": "execute_result"
    }
   ],
   "source": [
    "g"
   ]
  },
  {
   "cell_type": "code",
   "execution_count": 35,
   "metadata": {},
   "outputs": [
    {
     "name": "stdout",
     "output_type": "stream",
     "text": [
      "['__and__', '__class__', '__contains__', '__delattr__', '__dir__', '__doc__', '__eq__', '__format__', '__ge__', '__getattribute__', '__gt__', '__hash__', '__iand__', '__init__', '__init_subclass__', '__ior__', '__isub__', '__iter__', '__ixor__', '__le__', '__len__', '__lt__', '__ne__', '__new__', '__or__', '__rand__', '__reduce__', '__reduce_ex__', '__repr__', '__ror__', '__rsub__', '__rxor__', '__setattr__', '__sizeof__', '__str__', '__sub__', '__subclasshook__', '__xor__', 'add', 'clear', 'copy', 'difference', 'difference_update', 'discard', 'intersection', 'intersection_update', 'isdisjoint', 'issubset', 'issuperset', 'pop', 'remove', 'symmetric_difference', 'symmetric_difference_update', 'union', 'update']\n"
     ]
    }
   ],
   "source": [
    "print(dir(set))"
   ]
  },
  {
   "cell_type": "code",
   "execution_count": 37,
   "metadata": {},
   "outputs": [
    {
     "name": "stdout",
     "output_type": "stream",
     "text": [
      "{33, 34, 3, 34.564, 'somu', 23, 'rajesh', 56}\n"
     ]
    }
   ],
   "source": [
    "g.add(56)\n",
    "print(g)"
   ]
  },
  {
   "cell_type": "code",
   "execution_count": 31,
   "metadata": {},
   "outputs": [
    {
     "name": "stdout",
     "output_type": "stream",
     "text": [
      "9 7 20 raju kiran somu mahesh123 som2342u raj234esh\n",
      "2079\n",
      "['Raju', 'Kiran', 'Somu']\n",
      "['mahesh', 'somu', 'rajesh']\n"
     ]
    }
   ],
   "source": [
    "k=input().split()\n",
    "no=[]\n",
    "s1=[]\n",
    "s2=[]\n",
    "l=[]\n",
    "mm=[]\n",
    "for i in k:\n",
    "    if str(i).isdigit():\n",
    "        no.append(i)\n",
    "    elif str(i).isalpha():\n",
    "        s1.append(i.title())\n",
    "    elif str(i).isalnum():\n",
    "        s2.append(i)\n",
    "no.reverse()\n",
    "print(\"\".join(no))#join all the elements in the list as one\n",
    "print(s1)\n",
    "for j in s2:\n",
    "    l=[]\n",
    "    for m in j:#s2[j][m]=m in mahesh123\n",
    "        if m.isalpha():\n",
    "            l.append(m)\n",
    "    mm.append(\"\".join(l))# joining individual lists to single list\n",
    "print(mm)"
   ]
  },
  {
   "cell_type": "code",
   "execution_count": 46,
   "metadata": {},
   "outputs": [
    {
     "name": "stdout",
     "output_type": "stream",
     "text": [
      "raju somu murali "
     ]
    }
   ],
   "source": [
    "import re\n",
    "p='^[a-z]{1,}$'\n",
    "s=['9','7','20','raju','somu','murali','workshop123']\n",
    "for i in s:\n",
    "    if re.match(p,i):\n",
    "        print(i,end=\" \")\n",
    "    #if str(i).isalpha():\n",
    "      #  s1.append(\"\".join(i))"
   ]
  },
  {
   "cell_type": "code",
   "execution_count": 47,
   "metadata": {},
   "outputs": [
    {
     "name": "stdout",
     "output_type": "stream",
     "text": [
      "{8, 5, 7}\n",
      "{8, 5, 7}\n",
      "{1, 2, 4, 5, 7, 8}\n",
      "{1, 2, 4, 100, 101, 145, 123}\n"
     ]
    }
   ],
   "source": [
    "s={4,2,1,5,7,8}\n",
    "s1={100,145,123,101,145,4,2,1}\n",
    "print(s.difference(s1))\n",
    "print(s.difference(s1))\n",
    "print(s)\n",
    "print(s1)"
   ]
  },
  {
   "cell_type": "code",
   "execution_count": 55,
   "metadata": {},
   "outputs": [
    {
     "name": "stdout",
     "output_type": "stream",
     "text": [
      "{1, 2, 4, 100, 101, 145, 123}\n",
      "None\n"
     ]
    }
   ],
   "source": [
    "s={4,2,1,5,7,8}\n",
    "s1={100,145,123,101,145,4,2,1}\n",
    "s=s.difference_update(s1)\n",
    "print(s1)\n",
    "print(s)"
   ]
  },
  {
   "cell_type": "code",
   "execution_count": 56,
   "metadata": {},
   "outputs": [
    {
     "name": "stdout",
     "output_type": "stream",
     "text": [
      "{1, 2, 4, 5, 7, 8}\n",
      "None\n"
     ]
    }
   ],
   "source": [
    "s={4,2,1,5,7,8}\n",
    "s1={100,145,123,101,145,4,2,1}\n",
    "s1=s1.difference_update(s)\n",
    "print(s)\n",
    "print(s1)"
   ]
  },
  {
   "cell_type": "code",
   "execution_count": 57,
   "metadata": {},
   "outputs": [
    {
     "name": "stdout",
     "output_type": "stream",
     "text": [
      "{1, 2, 4}\n",
      "{1, 2, 4}\n",
      "{1, 2, 4, 5, 7, 8}\n",
      "{1, 2, 4, 100, 101, 145, 123}\n"
     ]
    }
   ],
   "source": [
    "s={4,2,1,5,7,8}\n",
    "s1={100,145,123,101,145,4,2,1}\n",
    "print(s1.intersection(s))\n",
    "print(s.intersection(s1))\n",
    "print(s)\n",
    "print(s1)"
   ]
  },
  {
   "cell_type": "code",
   "execution_count": 60,
   "metadata": {},
   "outputs": [
    {
     "name": "stdout",
     "output_type": "stream",
     "text": [
      "None\n",
      "{1, 2, 4, 5, 7, 8}\n"
     ]
    }
   ],
   "source": [
    "s={4,2,1,5,7,8}\n",
    "s1={100,145,123,101,145,4,2,1}\n",
    "s1=s1.intersection_update(s)\n",
    "print(s1)\n",
    "print(s)"
   ]
  },
  {
   "cell_type": "code",
   "execution_count": 59,
   "metadata": {},
   "outputs": [
    {
     "name": "stdout",
     "output_type": "stream",
     "text": [
      "None\n",
      "{1, 2, 4, 100, 101, 145, 123}\n"
     ]
    }
   ],
   "source": [
    "s={4,2,1,5,7,8}\n",
    "s1={100,145,123,101,145,4,2,1}\n",
    "s=s.intersection_update(s1)\n",
    "print(s)\n",
    "print(s1)"
   ]
  },
  {
   "cell_type": "code",
   "execution_count": 61,
   "metadata": {},
   "outputs": [
    {
     "name": "stdout",
     "output_type": "stream",
     "text": [
      "{1, 2, 4}\n",
      "None\n"
     ]
    }
   ],
   "source": [
    "s={4,2,1,5,7,8}\n",
    "s1={100,145,123,101,145,4,2,1}\n",
    "s1=s.intersection_update(s1)\n",
    "print(s)\n",
    "print(s1)"
   ]
  },
  {
   "cell_type": "code",
   "execution_count": 63,
   "metadata": {},
   "outputs": [
    {
     "name": "stdout",
     "output_type": "stream",
     "text": [
      "{1, 2, 4, 5, 100, 7, 8, 101, 145, 123}\n",
      "{1, 2, 4, 5, 7, 8}\n",
      "{1, 2, 4, 100, 101, 145, 123}\n"
     ]
    }
   ],
   "source": [
    "s={4,2,1,5,7,8}\n",
    "s1={100,145,123,101,145,4,2,1}\n",
    "print(s.union(s1))\n",
    "print(s)\n",
    "print(s1)"
   ]
  },
  {
   "cell_type": "code",
   "execution_count": 65,
   "metadata": {},
   "outputs": [
    {
     "name": "stdout",
     "output_type": "stream",
     "text": [
      "{1, 2, 4, 5, 100, 7, 8, 101, 145, 123}\n",
      "{1, 2, 4, 100, 101, 145, 123}\n"
     ]
    }
   ],
   "source": [
    "s={4,2,1,5,7,8}\n",
    "s1={100,145,123,101,145,4,2,1}\n",
    "s.update(s1)\n",
    "print(s)\n",
    "print(s1)"
   ]
  },
  {
   "cell_type": "code",
   "execution_count": 66,
   "metadata": {},
   "outputs": [
    {
     "name": "stdout",
     "output_type": "stream",
     "text": [
      "{100, 101, 5, 7, 8, 145, 123}\n",
      "{1, 2, 4, 5, 7, 8}\n",
      "{1, 2, 4, 100, 101, 145, 123}\n"
     ]
    }
   ],
   "source": [
    "s={4,2,1,5,7,8}\n",
    "s1={100,145,123,101,145,4,2,1}\n",
    "print(s.symmetric_difference(s1))\n",
    "print(s)\n",
    "print(s1)"
   ]
  },
  {
   "cell_type": "code",
   "execution_count": 67,
   "metadata": {},
   "outputs": [
    {
     "name": "stdout",
     "output_type": "stream",
     "text": [
      "{100, 101, 5, 7, 8, 145, 123}\n",
      "{1, 2, 4, 100, 101, 145, 123}\n"
     ]
    }
   ],
   "source": [
    "s={4,2,1,5,7,8}\n",
    "s1={100,145,123,101,145,4,2,1}\n",
    "s=s.symmetric_difference(s1)\n",
    "print(s)\n",
    "print(s1)"
   ]
  },
  {
   "cell_type": "markdown",
   "metadata": {},
   "source": [
    "# Dictionary:\n",
    "```\n",
    "    - Collection of key and value pairs\n",
    "    - It can be define as {} and typecast as dict()\n",
    "    - It can cahnges the value by key,Slicing can be done only on key and values\n",
    "    - Ordered type of data is to be stored but it is in key value pairs\n",
    "    - It does not allows the duplicate keys\n",
    "    ```"
   ]
  },
  {
   "cell_type": "code",
   "execution_count": 89,
   "metadata": {},
   "outputs": [
    {
     "name": "stdout",
     "output_type": "stream",
     "text": [
      "{'name': ['rajesh', 'somu'], 'age': 24, 'year': '2nd year'}\n",
      "name age year \n",
      "('name', ['rajesh', 'somu']) ('age', 24) ('year', '2nd year') \n",
      "['rajesh', 'somu'] 24 2nd year \n",
      "['rajesh', 'somu']\n",
      "24\n",
      "{'name': ['rajesh', 'somu'], 'year': '2nd year'}\n",
      "{'name': ['rajesh', 'somu']}\n",
      "{'name': ['rajesh', 'somu'], 'surname': 'velaga'}\n",
      "{'name': ['rajesh', 'somu'], 'surname': 'velaga', 's': None}\n",
      "{'name': ['rajesh', 'somu'], 'surname': 'velaga', 's': None}\n"
     ]
    }
   ],
   "source": [
    "h={'name':['rajesh','somu'],'age':24,'year':'2nd year'}\n",
    "print(h,end=\"\\n\")\n",
    "for j in h.keys():\n",
    "    print(j,end=\" \")\n",
    "print(end=\"\\n\")\n",
    "for i in h.items():\n",
    "    print(i,end=\" \")\n",
    "print(end=\"\\n\")\n",
    "for i in h.values():\n",
    "    print(i,end=\" \")\n",
    "print(end=\"\\n\")\n",
    "print(h.get('name'),end=\"\\n\")\n",
    "print(h.get('age'),end=\"\\n\")#passing key as parameter\n",
    "h.pop('age')\n",
    "print(h)\n",
    "h.popitem()#takes no argument and pop an item from last in dictionary \n",
    "print(h)\n",
    "h['surname']='velaga'#pass key as argument so that it is updated in dictionary\n",
    "print(h)\n",
    "h.setdefault('s')#key is updated with no value\n",
    "print(h)"
   ]
  },
  {
   "cell_type": "code",
   "execution_count": 90,
   "metadata": {},
   "outputs": [
    {
     "data": {
      "text/plain": [
       "{'n': None, 'a': None, 'm': None, 'e': None}"
      ]
     },
     "execution_count": 90,
     "metadata": {},
     "output_type": "execute_result"
    }
   ],
   "source": [
    "h.fromkeys('name')"
   ]
  },
  {
   "cell_type": "markdown",
   "metadata": {},
   "source": [
    "# Modules and Packages"
   ]
  },
  {
   "cell_type": "code",
   "execution_count": 2,
   "metadata": {},
   "outputs": [
    {
     "name": "stdout",
     "output_type": "stream",
     "text": [
      "166 176 132 125 181 111 152 169 134 118 "
     ]
    }
   ],
   "source": [
    "# print the random values between the given range\n",
    "import random\n",
    "def pack(lb,ub,n):\n",
    "    for i in range(n):\n",
    "        print(random.randint(lb,ub),end=\" \")\n",
    "pack(111,200,10)"
   ]
  },
  {
   "cell_type": "markdown",
   "metadata": {},
   "source": [
    "# Files Handling"
   ]
  },
  {
   "cell_type": "markdown",
   "metadata": {},
   "source": [
    "    -Opening file\n",
    "    -Doing operations on file\n",
    "    -Closing file"
   ]
  },
  {
   "cell_type": "code",
   "execution_count": 10,
   "metadata": {},
   "outputs": [
    {
     "name": "stdout",
     "output_type": "stream",
     "text": [
      "This is anits college.\n"
     ]
    }
   ],
   "source": [
    "f=open('Data/pw.txt','r')\n",
    "print(f.read())\n",
    "f.close()"
   ]
  },
  {
   "cell_type": "code",
   "execution_count": 18,
   "metadata": {},
   "outputs": [
    {
     "name": "stdout",
     "output_type": "stream",
     "text": [
      "stay alive.\n",
      "keep calm.\n",
      "DO your work.\n"
     ]
    }
   ],
   "source": [
    "f=open('Data/pw.txt','w')\n",
    "f.write('stay alive.')#rewrited the data in the file\n",
    "f.close()\n",
    "f=open('Data/pw.txt','a')\n",
    "f.write('\\nkeep calm.')\n",
    "f.write('\\nDO your work.')\n",
    "f.close()\n",
    "f=open('Data/pw.txt','r')\n",
    "print(f.read())"
   ]
  },
  {
   "cell_type": "code",
   "execution_count": 23,
   "metadata": {},
   "outputs": [
    {
     "name": "stdout",
     "output_type": "stream",
     "text": [
      "11\n",
      "['alive.']\n"
     ]
    }
   ],
   "source": [
    "with open('Data/pw.txt','r') as f:\n",
    "    f.seek(5)#from which position file pointer has to read characters\n",
    "    r=f.read(6)\n",
    "    print(f.tell())\n",
    "    print(r.split())\n",
    "    f.close()"
   ]
  },
  {
   "cell_type": "code",
   "execution_count": 27,
   "metadata": {},
   "outputs": [
    {
     "name": "stdout",
     "output_type": "stream",
     "text": [
      "['stay', 'alive.', 'keep', 'calm.', 'DO', 'your', 'work.']\n"
     ]
    }
   ],
   "source": [
    "f=open('Data/pw.txt','r')\n",
    "r=f.read()\n",
    "print(r.split())"
   ]
  },
  {
   "cell_type": "code",
   "execution_count": 26,
   "metadata": {},
   "outputs": [
    {
     "name": "stdout",
     "output_type": "stream",
     "text": [
      "['stay alive.\\n', 'keep calm.\\n', 'DO your work.']\n"
     ]
    }
   ],
   "source": [
    "f=open('Data/pw.txt','r')\n",
    "print(f.readlines())"
   ]
  },
  {
   "cell_type": "code",
   "execution_count": 37,
   "metadata": {},
   "outputs": [
    {
     "name": "stdout",
     "output_type": "stream",
     "text": [
      "stay alive.\n",
      "keep calm.\n",
      "DO your work.\n",
      "no.of lines in the file:3\n",
      "\n",
      "no.of lines starting with capital letter:0\n"
     ]
    }
   ],
   "source": [
    "f=open('Data/pw.txt','r')\n",
    "w=f.readlines()\n",
    "l=0\n",
    "c=0\n",
    "for i in w:\n",
    " #   if 'A'<='w[i][0]'<='Z':\n",
    "  #      c+=1\n",
    "    print(i,end=\"\")\n",
    "    l+=1\n",
    "print(\"\\nno.of lines in the file:{}\".format(l))\n",
    "print(\"\\nno.of lines starting with capital letter:{}\".format(c))"
   ]
  },
  {
   "cell_type": "code",
   "execution_count": 35,
   "metadata": {},
   "outputs": [
    {
     "name": "stdout",
     "output_type": "stream",
     "text": [
      "[1, 2, 3, 4, 5, 6, 7, 8, 9]\n"
     ]
    }
   ],
   "source": [
    "print([i for i in range(1,10)])"
   ]
  },
  {
   "cell_type": "code",
   "execution_count": 38,
   "metadata": {},
   "outputs": [
    {
     "name": "stdout",
     "output_type": "stream",
     "text": [
      "1 2 3 4 5 6 7 8 9 0\n",
      "['1', '2', '3', '4', '5', '6', '7', '8', '9', '0']\n"
     ]
    }
   ],
   "source": [
    "print([i for i in input().split()])"
   ]
  },
  {
   "cell_type": "code",
   "execution_count": 41,
   "metadata": {},
   "outputs": [
    {
     "name": "stdout",
     "output_type": "stream",
     "text": [
      "['wyr', 'jhrf', 'sjtf', 'sjfn']\n"
     ]
    }
   ],
   "source": [
    "para=\"wyr jhrf sjtf sjfn\"\n",
    "l=[]\n",
    "for i in para.split():\n",
    "    l.append(i)\n",
    "print(l)"
   ]
  },
  {
   "cell_type": "code",
   "execution_count": 42,
   "metadata": {},
   "outputs": [
    {
     "name": "stdout",
     "output_type": "stream",
     "text": [
      "['wyr', 'jhrf', 'sjtf', 'sjfn']\n"
     ]
    }
   ],
   "source": [
    "print([i for i in para.split()])#splits the para into words and to store in a list"
   ]
  },
  {
   "cell_type": "markdown",
   "metadata": {},
   "source": [
    "# MAPS:"
   ]
  },
  {
   "cell_type": "code",
   "execution_count": 50,
   "metadata": {},
   "outputs": [
    {
     "name": "stdout",
     "output_type": "stream",
     "text": [
      "[1, 8, 27, 64]\n"
     ]
    }
   ],
   "source": [
    "def add(a):\n",
    "    return a**3\n",
    "#numbers=(1,2,3,4)\n",
    "#print(list(map(add,numbers)))\n",
    "#print(list(map(add,range(1,5))))\n",
    "l=map(add,range(1,5))#iterator=(range(1,5))\n",
    "print(list(l))"
   ]
  },
  {
   "cell_type": "code",
   "execution_count": null,
   "metadata": {},
   "outputs": [],
   "source": []
  }
 ],
 "metadata": {
  "kernelspec": {
   "display_name": "Python 3",
   "language": "python",
   "name": "python3"
  },
  "language_info": {
   "codemirror_mode": {
    "name": "ipython",
    "version": 3
   },
   "file_extension": ".py",
   "mimetype": "text/x-python",
   "name": "python",
   "nbconvert_exporter": "python",
   "pygments_lexer": "ipython3",
   "version": "3.7.4"
  }
 },
 "nbformat": 4,
 "nbformat_minor": 2
}
