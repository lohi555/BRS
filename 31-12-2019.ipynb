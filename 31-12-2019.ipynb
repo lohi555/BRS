{
 "cells": [
  {
   "cell_type": "markdown",
   "metadata": {},
   "source": [
    "## Operators"
   ]
  },
  {
   "cell_type": "markdown",
   "metadata": {},
   "source": [
    "```\n",
    "- Arithmetic Operators -> +,-,/,%,//,*,**(cal.of power)\n",
    "- Logical Operators    -> and,or,not\n",
    "- Relational Operators -> >=,<=,!=,==\n",
    "- Bitwise Operators    -> >>,<<,^,~,&,|\n",
    "- Assignment Operators -> +=,-=,/=,%=,*=\n",
    "- Membership Operator  -> in,not in\n",
    "- Identity Opeartor    -> is,is not\n",
    "```"
   ]
  },
  {
   "cell_type": "code",
   "execution_count": 26,
   "metadata": {},
   "outputs": [
    {
     "name": "stdout",
     "output_type": "stream",
     "text": [
      "12\n",
      "5\n",
      "addition of 12 and 5 is: 17\n",
      "substraction of 12 and 5 is:7\n",
      "multiplication of 12 and 5 is:60\n",
      "division of 5 and 2.4 is:12\n",
      "modulus of 12 and 5 is:2\n",
      "floor Division of 12 and 5 is:2\n",
      "power of 12 and 5 is:248832\n"
     ]
    }
   ],
   "source": [
    "a=int(input())\n",
    "b=int(input())\n",
    "print(\"addition of\",a,\"and\",b,\"is:\",a+b)\n",
    "print(\"substraction of %d and %d is:%d\"%(a,b,a-b))\n",
    "print(\"multiplication of {} and {} is:{}\".format(a,b,a*b))\n",
    "print(\"division of {1} and {2} is:{0}\".format(a,b,a/b))\n",
    "print(\"modulus of {} and {} is:{}\".format(a,b,a%b))\n",
    "print(\"floor Division of {} and {} is:{}\".format(a,b,a//b))\n",
    "print(\"power of {} and {} is:{}\".format(a,b,a**b))"
   ]
  },
  {
   "cell_type": "code",
   "execution_count": 36,
   "metadata": {},
   "outputs": [
    {
     "name": "stdout",
     "output_type": "stream",
     "text": [
      "0\n",
      "7\n",
      "1\n",
      "20\n",
      "-6\n"
     ]
    }
   ],
   "source": [
    "a=5\n",
    "b=2\n",
    "print(a&b)\n",
    "print(a|b)\n",
    "print(a>>2)\n",
    "print(a<<2)\n",
    "print(~a)"
   ]
  },
  {
   "cell_type": "markdown",
   "metadata": {},
   "source": [
    "## Conditional statements:\n",
    "    - to check whether the given condition is either true or false\n",
    "       - if        ->single case statement\n",
    "            syntax:\n",
    "                if(condition):\n",
    "                    //statement\n",
    "                    \n",
    "       - nested if ->two or more cases\n",
    "            syntax:\n",
    "                if(condition1):\n",
    "                    if(condition2):\n",
    "                        //statement\n",
    "                    else:\n",
    "                    //statement\n",
    "                else:\n",
    "                    //statement\n",
    "                    \n",
    "       - if-else   ->two cases\n",
    "            syntax:\n",
    "                if(condition):\n",
    "                    //statement\n",
    "                else:\n",
    "                    //statement\n",
    "                    \n",
    "       - elif      ->three or more cases\n",
    "            syntax:\n",
    "                if(condition1):\n",
    "                    //statement\n",
    "                elif(condition2):\n",
    "                    //statement\n",
    "                |\n",
    "                |...\n",
    "                else:\n",
    "                    //statement"
   ]
  },
  {
   "cell_type": "code",
   "execution_count": 49,
   "metadata": {},
   "outputs": [
    {
     "name": "stdout",
     "output_type": "stream",
     "text": [
      "4\n",
      "12\n",
      "4 is an even number\n",
      "not eligible for voting.\n",
      "u have to wait for  14 more years to get eligible for voting\n",
      "four\n"
     ]
    }
   ],
   "source": [
    "a=int(input())\n",
    "b=int(input())\n",
    "if a==b:\n",
    "    print(\"{} and {} are equal\".format(a,b))\n",
    "if a%2==0:\n",
    "    print(\"{} is an even number\".format(a))\n",
    "else:\n",
    "    print(\"{} is odd number\".format(a))\n",
    "if a>=18:\n",
    "    print(\"eligible for voting.\")\n",
    "    if a>18:\n",
    "        print(\"u got eligible criteria before \",a-18,\"years\")\n",
    "else:\n",
    "    print(\"not eligible for voting.\")\n",
    "    print(\"u have to wait for \",18-a,\"more years to get eligible for voting\")\n",
    "if a==1:\n",
    "    print(\"one\")\n",
    "elif a==2:\n",
    "     print(\"two\")\n",
    "elif a==3:\n",
    "    print(\"three\")\n",
    "elif a==4:\n",
    "    print(\"four\")\n",
    "else:\n",
    "    print(\"greater than four\")"
   ]
  },
  {
   "cell_type": "code",
   "execution_count": 9,
   "metadata": {},
   "outputs": [
    {
     "name": "stdout",
     "output_type": "stream",
     "text": [
      "345\n",
      "123\n",
      "Welcome user 345!!!\n"
     ]
    }
   ],
   "source": [
    "userid=345\n",
    "pin=123\n",
    "a=int(input())\n",
    "b=int(input())\n",
    "if a==userid:\n",
    "    if b==pin:\n",
    "        print(\"Welcome user 345!!!\")\n",
    "    else:\n",
    "        print(\"Invalid userid 345 or pin\")\n",
    "else:\n",
    "    print(\"Invalid userid 345 or pin\")"
   ]
  },
  {
   "cell_type": "code",
   "execution_count": 11,
   "metadata": {},
   "outputs": [
    {
     "name": "stdout",
     "output_type": "stream",
     "text": [
      "-------Registeration-------\n",
      "Enter userid to fix345\n",
      "Enter pin to fix123\n",
      "-------validating--------\n",
      "345\n",
      "123\n",
      "Welcome user 345!!!\n"
     ]
    }
   ],
   "source": [
    "print(\"-------Registeration-------\")\n",
    "ufix=int(input(\"Enter userid to fix\"))\n",
    "pfix=int(input(\"Enter pin to fix\"))\n",
    "print(\"-------validating--------\")\n",
    "a=int(input())\n",
    "b=int(input())\n",
    "if a==userid and b==pin:\n",
    "    print(\"Welcome user 345!!!\")\n",
    "else:\n",
    "    print(\"Invalid userid 345 or pin\")"
   ]
  },
  {
   "cell_type": "code",
   "execution_count": 15,
   "metadata": {},
   "outputs": [
    {
     "name": "stdout",
     "output_type": "stream",
     "text": [
      "676\n",
      "enter password\n",
      "100\n",
      "Welcome userid 676\n"
     ]
    }
   ],
   "source": [
    "uid=676\n",
    "pin=100\n",
    "\n",
    "a=int(input())\n",
    "if a==uid:\n",
    "    print(\"enter password\")\n",
    "    b=int(input())\n",
    "    if b==pin:\n",
    "        print(\"Welcome userid {}\".format(a))\n",
    "    else:\n",
    "        print(\"Invalid pin for userid {}\".format(a))\n",
    "else:\n",
    "    print(\"Invalid userid {}\".format(a))"
   ]
  },
  {
   "cell_type": "code",
   "execution_count": 29,
   "metadata": {},
   "outputs": [
    {
     "name": "stdout",
     "output_type": "stream",
     "text": [
      "15\n",
      "15 is divisible by 5.\n"
     ]
    }
   ],
   "source": [
    "a=int(input())\n",
    "if a%5==0:\n",
    "    print(\"{} is divisible by 5.\".format(a))\n",
    "elif a%2==0:\n",
    "    print(\"{} is divisible by 2.\".format(a))\n",
    "elif a%3!=0:\n",
    "    print(\"given number is {} and it is not divisible by 2 so output will be {}.\".format(a,float(a)))\n",
    "elif a%3==0:\n",
    "    print(\"given number is {} and it is divisible by 3.\".format(a))"
   ]
  },
  {
   "cell_type": "markdown",
   "metadata": {},
   "source": [
    "## Loops or Iteration or Repetition or Control statements:\n",
    "   ### - For  ->particular range\n",
    "           syntax:\n",
    "            range(n)->starting with 0 and ends with n-1\n",
    "            range(n,m)->starting with n and ending with m-1\n",
    "            range(n,m,s)->starting with n and ending with m-1 with step s\n",
    "               for iteration varaible in range():\n",
    "                    //statements\n",
    "   ### - While  ->particular range and infinity\n",
    "            syntax:\n",
    "             while condition:\n",
    "                //statement\n",
    "                \n",
    "            starting=0\n",
    "            while condition:\n",
    "                //statement\n",
    "                increment/decrement"
   ]
  },
  {
   "cell_type": "code",
   "execution_count": 11,
   "metadata": {},
   "outputs": [
    {
     "name": "stdout",
     "output_type": "stream",
     "text": [
      "5\n",
      "0,1,2,3,4 "
     ]
    }
   ],
   "source": [
    "n=int(input())\n",
    "for i in range(n):\n",
    "    if i==n-1:\n",
    "        print(i,end=\" \")\n",
    "    else:\n",
    "        print(i,end=\",\")"
   ]
  }
 ],
 "metadata": {
  "kernelspec": {
   "display_name": "Python 3",
   "language": "python",
   "name": "python3"
  },
  "language_info": {
   "codemirror_mode": {
    "name": "ipython",
    "version": 3
   },
   "file_extension": ".py",
   "mimetype": "text/x-python",
   "name": "python",
   "nbconvert_exporter": "python",
   "pygments_lexer": "ipython3",
   "version": "3.7.4"
  }
 },
 "nbformat": 4,
 "nbformat_minor": 2
}
