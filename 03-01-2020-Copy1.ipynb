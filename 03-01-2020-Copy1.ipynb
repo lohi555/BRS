{
 "cells": [
  {
   "cell_type": "markdown",
   "metadata": {},
   "source": [
    "## Functons and its types\n",
    "### What is a function\n",
    "```\n",
    "def fun(name,age=25):#position,default valuw,keyword,variable length\n",
    "    statements\n",
    "    ...\n",
    "    ...\n",
    "    ...\n",
    "    return value\n",
    "fun(25,'c')\n",
    "fun('c',25)\n",
    "fun('c')\n",
    "fun('c',10,20,30)#after the firsat argument all the values are taken by second argument \n",
    "    ```"
   ]
  },
  {
   "cell_type": "code",
   "execution_count": 17,
   "metadata": {},
   "outputs": [
    {
     "name": "stdout",
     "output_type": "stream",
     "text": [
      "anits college\n"
     ]
    }
   ],
   "source": [
    "#without return value and without argument\n",
    "def fun():\n",
    "    print(\"anits college\")\n",
    "fun()"
   ]
  },
  {
   "cell_type": "code",
   "execution_count": 18,
   "metadata": {},
   "outputs": [
    {
     "name": "stdout",
     "output_type": "stream",
     "text": [
      "anits\n"
     ]
    }
   ],
   "source": [
    "#without return value and with argument\n",
    "def fun(a):\n",
    "    print(a)\n",
    "fun('anits')"
   ]
  },
  {
   "cell_type": "code",
   "execution_count": 19,
   "metadata": {},
   "outputs": [
    {
     "data": {
      "text/plain": [
       "'hello'"
      ]
     },
     "execution_count": 19,
     "metadata": {},
     "output_type": "execute_result"
    }
   ],
   "source": [
    "#with return value and without argument\n",
    "def fun():\n",
    "    a='hello'\n",
    "    return a\n",
    "fun()"
   ]
  },
  {
   "cell_type": "code",
   "execution_count": 20,
   "metadata": {},
   "outputs": [
    {
     "data": {
      "text/plain": [
       "'anits'"
      ]
     },
     "execution_count": 20,
     "metadata": {},
     "output_type": "execute_result"
    }
   ],
   "source": [
    "#with return value and with argument\n",
    "def fun(a):\n",
    "    return a\n",
    "fun('anits')"
   ]
  },
  {
   "cell_type": "code",
   "execution_count": 12,
   "metadata": {},
   "outputs": [
    {
     "name": "stdout",
     "output_type": "stream",
     "text": [
      "2000\n"
     ]
    },
    {
     "data": {
      "text/plain": [
       "True"
      ]
     },
     "execution_count": 12,
     "metadata": {},
     "output_type": "execute_result"
    }
   ],
   "source": [
    "#python code using args and return value to find leapyear\n",
    "def isleapyear(y):\n",
    "    if(y%400==0) or (y%4==0 and y%100!=0):\n",
    "        return True\n",
    "    return False\n",
    "a=int(input())\n",
    "isleapyear(a)"
   ]
  },
  {
   "cell_type": "code",
   "execution_count": 16,
   "metadata": {},
   "outputs": [
    {
     "name": "stdout",
     "output_type": "stream",
     "text": [
      "1900\n"
     ]
    },
    {
     "data": {
      "text/plain": [
       "31536000000000000"
      ]
     },
     "execution_count": 16,
     "metadata": {},
     "output_type": "execute_result"
    }
   ],
   "source": [
    "#print the nanoseconds of the year,consider leap year(366 days)\n",
    "def nanos(y):\n",
    "    #if(y%400==0) or (y%4==0 and y%100!=0):\n",
    "    if(isleapyear(y)):\n",
    "        n=(366*24*60*60*1000*1000000)\n",
    "        return n\n",
    "    else:\n",
    "        n=(365*24*60*60*1000*1000000)\n",
    "        return n\n",
    "nanos(int(input()))"
   ]
  },
  {
   "cell_type": "code",
   "execution_count": 3,
   "metadata": {},
   "outputs": [
    {
     "name": "stdout",
     "output_type": "stream",
     "text": [
      "17\n",
      "given number 17 is  prime\n"
     ]
    }
   ],
   "source": [
    "#print whether the given number is prime number or not\n",
    "def isprime(x):\n",
    "    if(x<=1):\n",
    "        return False\n",
    "    for i in range(2,x):#check from 2 to x-1\n",
    "        if(x%i==0):\n",
    "            return False\n",
    "    return True\n",
    "x=int(input())\n",
    "if(isprime(x)):\n",
    "    print(\"given number {} is  prime\".format(x))\n",
    "else:\n",
    "    print(\"given number {} is not prime\".format(x))"
   ]
  },
  {
   "cell_type": "code",
   "execution_count": 11,
   "metadata": {
    "scrolled": true
   },
   "outputs": [
    {
     "name": "stdout",
     "output_type": "stream",
     "text": [
      "25\n",
      "2 3 5 7 11 13 17 19 23 29 31 37 41 43 47 53 59 61 67 71 73 79 83 89 97 "
     ]
    }
   ],
   "source": [
    "#print prime numbers upto given number\n",
    "l=0\n",
    "b=int(input())\n",
    "#n=int(input())\n",
    "i=2\n",
    "#for i in range(2,n):\n",
    "while True:\n",
    "    if(isprime(i)):\n",
    "        print(i,end=\" \")\n",
    "        l+=1\n",
    "    if(l==b):\n",
    "        break\n",
    "    i+=1"
   ]
  },
  {
   "cell_type": "code",
   "execution_count": 13,
   "metadata": {},
   "outputs": [
    {
     "name": "stdout",
     "output_type": "stream",
     "text": [
      "1111111346\n",
      "invalid number\n"
     ]
    }
   ],
   "source": [
    "# ^[9][1][6-9][0-9]{9}$|^[6-9][0-9]{9}|^[0][6-9][0-9]{9}\n",
    "import re\n",
    "i=int(input())\n",
    "p='^[9][1][6-9][0-9]{9}$|^[6-9][0-9]{9}|^[0][6-9][0-9]{9}'\n",
    "if re.match(p,str(i)):\n",
    "    print(\"valid number\")\n",
    "else:\n",
    "    print(\"invalid number\")"
   ]
  },
  {
   "cell_type": "code",
   "execution_count": 14,
   "metadata": {},
   "outputs": [
    {
     "name": "stdout",
     "output_type": "stream",
     "text": [
      "found\n"
     ]
    }
   ],
   "source": [
    "import re\n",
    "p='This is python workshop'\n",
    "if(re.search('python',p)):\n",
    "    print(\"found\")\n",
    "else:\n",
    "    print(\"not found\")"
   ]
  },
  {
   "cell_type": "code",
   "execution_count": 16,
   "metadata": {},
   "outputs": [
    {
     "name": "stdout",
     "output_type": "stream",
     "text": [
      "fkh.djh124@gmialcom\n",
      "invalid email\n"
     ]
    }
   ],
   "source": [
    "import re\n",
    "i=input()\n",
    "#p='^[a-z.@_0-9]{5,}$'\n",
    "p='^[a-z.0-9]{5,}[@][a-z]{1,}[.][a-z]{1,}$'\n",
    "if re.match(p,str(i)):\n",
    "    print(\"valid email\")\n",
    "else:\n",
    "    print(\"invalid email\")"
   ]
  },
  {
   "cell_type": "markdown",
   "metadata": {},
   "source": [
    "## Data structures in python:\n",
    "### Similar to collections simply call it as iterators\n",
    "```\n",
    "    - List\n",
    "    - Tuple\n",
    "    - Set snd\n",
    "    - Dictionary\n",
    "    ```"
   ]
  },
  {
   "cell_type": "markdown",
   "metadata": {},
   "source": [
    "# List:\n",
    "```\n",
    "    -Collections of heterogenous(different) type of data elements \n",
    "    -It can be defined as [] and can be typecasted by list() method\n",
    "    -It can changes the values,slicing is done due to index \n",
    "    -Ordered format of data because index\n",
    "    ```"
   ]
  },
  {
   "cell_type": "code",
   "execution_count": 18,
   "metadata": {},
   "outputs": [
    {
     "name": "stdout",
     "output_type": "stream",
     "text": [
      "['__add__', '__class__', '__contains__', '__delattr__', '__delitem__', '__dir__', '__doc__', '__eq__', '__format__', '__ge__', '__getattribute__', '__getitem__', '__gt__', '__hash__', '__iadd__', '__imul__', '__init__', '__init_subclass__', '__iter__', '__le__', '__len__', '__lt__', '__mul__', '__ne__', '__new__', '__reduce__', '__reduce_ex__', '__repr__', '__reversed__', '__rmul__', '__setattr__', '__setitem__', '__sizeof__', '__str__', '__subclasshook__', 'append', 'clear', 'copy', 'count', 'extend', 'index', 'insert', 'pop', 'remove', 'reverse', 'sort']\n"
     ]
    }
   ],
   "source": [
    "print(dir(list))"
   ]
  },
  {
   "cell_type": "code",
   "execution_count": 43,
   "metadata": {},
   "outputs": [
    {
     "name": "stdout",
     "output_type": "stream",
     "text": [
      "[2, 3, 4, 456, 54]\n",
      "<class 'list'>\n",
      "456\n",
      "[4, 456, 54]\n",
      "[]\n",
      "[3, 4, 456]\n",
      "[54, 456, 4]\n",
      "[]\n",
      "[54, 456, 4]\n",
      "[]\n",
      "[]\n",
      "[3, 4, 456]\n",
      "[2, 3, 4, 54, 456]\n",
      "[2, 3, 4, 54, 456, 100]\n",
      "[2, 3, 4, 54, 456, 100]\n",
      "1\n",
      "None\n",
      "[2, 3, 4, 54, 456, 100, 2, 3, 4, 54, 456, 100]\n",
      "[2, 3, 4, 54, 456, 100]\n",
      "[2, 3, 4, 54, 456, 100, 2, 3, 4, 54, 456, 100, 2, 3, 4, 54, 456, 100]\n",
      "[2, 3, 4, 54, 456, 100, 2, 3, 4, 54, 456, 100]\n",
      "[2, 3, 4, 54, 456, 100]\n"
     ]
    }
   ],
   "source": [
    "p=[2,3,4,456,54]\n",
    "print(p)\n",
    "print(type(p))\n",
    "print(p[3])\n",
    "print(p[2:5])\n",
    "print(p[1:4:-1])\n",
    "print(p[1:4:1])\n",
    "print(p[4:1:-1])\n",
    "print(p[4:1:1])\n",
    "print(p[-1:-4:-1])\n",
    "print(p[-1:-4:1])\n",
    "print(p[-4:-1:-1])\n",
    "print(p[-4:-1:1])\n",
    "p.sort()\n",
    "print(p)\n",
    "p.append(100)\n",
    "print(p)\n",
    "k=p.copy()\n",
    "print(k)\n",
    "print(p.count(100))\n",
    "c=k.extend(p)\n",
    "print(c)\n",
    "print(k)\n",
    "print(p)\n",
    "c=k+p\n",
    "print(c)\n",
    "print(k)\n",
    "print(p)"
   ]
  },
  {
   "cell_type": "code",
   "execution_count": 55,
   "metadata": {},
   "outputs": [
    {
     "name": "stdout",
     "output_type": "stream",
     "text": [
      "8\n",
      "[1, 1, 1, 1, 1, 1, 1, 1, 54, 100]\n",
      "[1, 1, 1, 1, 1, 1, 1, 54, 100]\n",
      "[1, 1, 1, 1, 1, 1, 54, 100]\n",
      "[100, 54, 1, 1, 1, 1, 1, 1]\n"
     ]
    }
   ],
   "source": [
    "print(p.index(100))\n",
    "p.insert(0,1)\n",
    "print(p)\n",
    "p.pop(7)#removes the value at index 7\n",
    "print(p)\n",
    "p.remove(1)#removes the value 456\n",
    "print(p)\n",
    "p.reverse()\n",
    "print(p)"
   ]
  },
  {
   "cell_type": "code",
   "execution_count": 56,
   "metadata": {},
   "outputs": [
    {
     "name": "stdout",
     "output_type": "stream",
     "text": [
      "[100, 54, 1, 1, 1, 1, 1, 1]\n",
      "[100, 54, 1, 1, 1, 1, 1, 1]\n"
     ]
    }
   ],
   "source": [
    "print(p)\n",
    "p.sort(reverse=True)\n",
    "print(p)"
   ]
  },
  {
   "cell_type": "code",
   "execution_count": 57,
   "metadata": {},
   "outputs": [
    {
     "name": "stdout",
     "output_type": "stream",
     "text": [
      "[100, 54, 1, 1, 1, 1, 1, 1]\n",
      "[]\n"
     ]
    }
   ],
   "source": [
    "print(p)\n",
    "p.clear()#clears the values in list but not list\n",
    "print(p)"
   ]
  },
  {
   "cell_type": "code",
   "execution_count": 5,
   "metadata": {},
   "outputs": [
    {
     "name": "stdout",
     "output_type": "stream",
     "text": [
      "23 54 34 "
     ]
    }
   ],
   "source": [
    "n=[23,54,'y',34,'sd']\n",
    "for i in n:\n",
    "    if str(i).isdigit():\n",
    "        print(i,end=\" \")"
   ]
  },
  {
   "cell_type": "code",
   "execution_count": 27,
   "metadata": {},
   "outputs": [
    {
     "name": "stdout",
     "output_type": "stream",
     "text": [
      "12 23 45 54 sdf dgf\n",
      "[12, 23, 45, 54]\n",
      "['dgf', 'sdf']\n"
     ]
    }
   ],
   "source": [
    "n=input().split()\n",
    "no=[]\n",
    "st=[]\n",
    "for i in n:\n",
    "    if str(i).isdigit():\n",
    "        no.append(int(i))\n",
    "    else:\n",
    "        st.append(i)\n",
    "no.sort()\n",
    "st.sort()\n",
    "print(no)\n",
    "print(st)"
   ]
  },
  {
   "cell_type": "markdown",
   "metadata": {},
   "source": [
    "## TUPLE:\n",
    "```\n",
    "    -Collection of heterogenous data type elements\n",
    "    -It can be defined as () and typescasting as tuple()\n",
    "    -It cannot be change the values,slicing can be done \n",
    "    -Based on index the slicing is done and it is also ordered data\n",
    "    ```"
   ]
  },
  {
   "cell_type": "code",
   "execution_count": 25,
   "metadata": {},
   "outputs": [
    {
     "name": "stdout",
     "output_type": "stream",
     "text": [
      "(23, 34, 34.0, 45, 56, 'kiran')\n",
      "<class 'tuple'>\n",
      "34.0\n",
      "(34, 34.0, 45)\n",
      "(23, 34, 34.0)\n",
      "1\n",
      "1\n",
      "1\n",
      "1\n"
     ]
    }
   ],
   "source": [
    "t=(23,34,34.0,45,56,'kiran')\n",
    "print(t)\n",
    "print(type(t))\n",
    "print(t[2])\n",
    "print(t[1:4])\n",
    "print(t[0:3:1])\n",
    "print(t.count(45))\n",
    "print(t.index(34))\n",
    "print(t.count(45))\n",
    "print(t.index(34.0))"
   ]
  },
  {
   "cell_type": "code",
   "execution_count": 20,
   "metadata": {},
   "outputs": [
    {
     "name": "stdout",
     "output_type": "stream",
     "text": [
      "['__add__', '__class__', '__contains__', '__delattr__', '__dir__', '__doc__', '__eq__', '__format__', '__ge__', '__getattribute__', '__getitem__', '__getnewargs__', '__gt__', '__hash__', '__init__', '__init_subclass__', '__iter__', '__le__', '__len__', '__lt__', '__mul__', '__ne__', '__new__', '__reduce__', '__reduce_ex__', '__repr__', '__rmul__', '__setattr__', '__sizeof__', '__str__', '__subclasshook__', 'count', 'index']\n"
     ]
    }
   ],
   "source": [
    "print(dir(tuple))"
   ]
  },
  {
   "cell_type": "markdown",
   "metadata": {},
   "source": [
    "## SETS\n",
    "```\n",
    "    -Collection of hetrogenous data elements\n",
    "    -It can be defined as {} and typecasted as set()\n",
    "    -It can change the value but it doesnot supports the slicing\n",
    "    -Unordered format data,index is not available\n",
    "    -Removes duplicate elements\n",
    "    ```"
   ]
  },
  {
   "cell_type": "code",
   "execution_count": 34,
   "metadata": {},
   "outputs": [
    {
     "name": "stdout",
     "output_type": "stream",
     "text": [
      "{33, 34, 3, 34.564, 'somu', 23, 'rajesh'}\n"
     ]
    }
   ],
   "source": [
    "g={34,3,3,3,3,3,3,33,34.564,'rajesh',23,'somu',3}\n",
    "print(g)"
   ]
  },
  {
   "cell_type": "code",
   "execution_count": 33,
   "metadata": {},
   "outputs": [
    {
     "data": {
      "text/plain": [
       "{23, 3, 34, 34.564, 'rajesh', 'somu'}"
      ]
     },
     "execution_count": 33,
     "metadata": {},
     "output_type": "execute_result"
    }
   ],
   "source": [
    "g"
   ]
  },
  {
   "cell_type": "code",
   "execution_count": 35,
   "metadata": {},
   "outputs": [
    {
     "name": "stdout",
     "output_type": "stream",
     "text": [
      "['__and__', '__class__', '__contains__', '__delattr__', '__dir__', '__doc__', '__eq__', '__format__', '__ge__', '__getattribute__', '__gt__', '__hash__', '__iand__', '__init__', '__init_subclass__', '__ior__', '__isub__', '__iter__', '__ixor__', '__le__', '__len__', '__lt__', '__ne__', '__new__', '__or__', '__rand__', '__reduce__', '__reduce_ex__', '__repr__', '__ror__', '__rsub__', '__rxor__', '__setattr__', '__sizeof__', '__str__', '__sub__', '__subclasshook__', '__xor__', 'add', 'clear', 'copy', 'difference', 'difference_update', 'discard', 'intersection', 'intersection_update', 'isdisjoint', 'issubset', 'issuperset', 'pop', 'remove', 'symmetric_difference', 'symmetric_difference_update', 'union', 'update']\n"
     ]
    }
   ],
   "source": [
    "print(dir(set))"
   ]
  },
  {
   "cell_type": "code",
   "execution_count": 37,
   "metadata": {},
   "outputs": [
    {
     "name": "stdout",
     "output_type": "stream",
     "text": [
      "{33, 34, 3, 34.564, 'somu', 23, 'rajesh', 56}\n"
     ]
    }
   ],
   "source": [
    "g.add(56)\n",
    "print(g)"
   ]
  },
  {
   "cell_type": "code",
   "execution_count": 31,
   "metadata": {},
   "outputs": [
    {
     "name": "stdout",
     "output_type": "stream",
     "text": [
      "9 7 20 raju kiran somu mahesh123 som2342u raj234esh\n",
      "2079\n",
      "['Raju', 'Kiran', 'Somu']\n",
      "['mahesh', 'somu', 'rajesh']\n"
     ]
    }
   ],
   "source": [
    "k=input().split()\n",
    "no=[]\n",
    "s1=[]\n",
    "s2=[]\n",
    "l=[]\n",
    "mm=[]\n",
    "for i in k:\n",
    "    if str(i).isdigit():\n",
    "        no.append(i)\n",
    "    elif str(i).isalpha():\n",
    "        s1.append(i.title())\n",
    "    elif str(i).isalnum():\n",
    "        s2.append(i)\n",
    "no.reverse()\n",
    "print(\"\".join(no))#join all the elements in the list as one\n",
    "print(s1)\n",
    "for j in s2:\n",
    "    l=[]\n",
    "    for m in j:#s2[j][m]=m in mahesh123\n",
    "        if m.isalpha():\n",
    "            l.append(m)\n",
    "    mm.append(\"\".join(l))# joining individual lists to single list\n",
    "print(mm)"
   ]
  },
  {
   "cell_type": "code",
   "execution_count": 32,
   "metadata": {},
   "outputs": [
    {
     "name": "stdout",
     "output_type": "stream",
     "text": [
      "Help on class str in module builtins:\n",
      "\n",
      "class str(object)\n",
      " |  str(object='') -> str\n",
      " |  str(bytes_or_buffer[, encoding[, errors]]) -> str\n",
      " |  \n",
      " |  Create a new string object from the given object. If encoding or\n",
      " |  errors is specified, then the object must expose a data buffer\n",
      " |  that will be decoded using the given encoding and error handler.\n",
      " |  Otherwise, returns the result of object.__str__() (if defined)\n",
      " |  or repr(object).\n",
      " |  encoding defaults to sys.getdefaultencoding().\n",
      " |  errors defaults to 'strict'.\n",
      " |  \n",
      " |  Methods defined here:\n",
      " |  \n",
      " |  __add__(self, value, /)\n",
      " |      Return self+value.\n",
      " |  \n",
      " |  __contains__(self, key, /)\n",
      " |      Return key in self.\n",
      " |  \n",
      " |  __eq__(self, value, /)\n",
      " |      Return self==value.\n",
      " |  \n",
      " |  __format__(self, format_spec, /)\n",
      " |      Return a formatted version of the string as described by format_spec.\n",
      " |  \n",
      " |  __ge__(self, value, /)\n",
      " |      Return self>=value.\n",
      " |  \n",
      " |  __getattribute__(self, name, /)\n",
      " |      Return getattr(self, name).\n",
      " |  \n",
      " |  __getitem__(self, key, /)\n",
      " |      Return self[key].\n",
      " |  \n",
      " |  __getnewargs__(...)\n",
      " |  \n",
      " |  __gt__(self, value, /)\n",
      " |      Return self>value.\n",
      " |  \n",
      " |  __hash__(self, /)\n",
      " |      Return hash(self).\n",
      " |  \n",
      " |  __iter__(self, /)\n",
      " |      Implement iter(self).\n",
      " |  \n",
      " |  __le__(self, value, /)\n",
      " |      Return self<=value.\n",
      " |  \n",
      " |  __len__(self, /)\n",
      " |      Return len(self).\n",
      " |  \n",
      " |  __lt__(self, value, /)\n",
      " |      Return self<value.\n",
      " |  \n",
      " |  __mod__(self, value, /)\n",
      " |      Return self%value.\n",
      " |  \n",
      " |  __mul__(self, value, /)\n",
      " |      Return self*value.\n",
      " |  \n",
      " |  __ne__(self, value, /)\n",
      " |      Return self!=value.\n",
      " |  \n",
      " |  __repr__(self, /)\n",
      " |      Return repr(self).\n",
      " |  \n",
      " |  __rmod__(self, value, /)\n",
      " |      Return value%self.\n",
      " |  \n",
      " |  __rmul__(self, value, /)\n",
      " |      Return value*self.\n",
      " |  \n",
      " |  __sizeof__(self, /)\n",
      " |      Return the size of the string in memory, in bytes.\n",
      " |  \n",
      " |  __str__(self, /)\n",
      " |      Return str(self).\n",
      " |  \n",
      " |  capitalize(self, /)\n",
      " |      Return a capitalized version of the string.\n",
      " |      \n",
      " |      More specifically, make the first character have upper case and the rest lower\n",
      " |      case.\n",
      " |  \n",
      " |  casefold(self, /)\n",
      " |      Return a version of the string suitable for caseless comparisons.\n",
      " |  \n",
      " |  center(self, width, fillchar=' ', /)\n",
      " |      Return a centered string of length width.\n",
      " |      \n",
      " |      Padding is done using the specified fill character (default is a space).\n",
      " |  \n",
      " |  count(...)\n",
      " |      S.count(sub[, start[, end]]) -> int\n",
      " |      \n",
      " |      Return the number of non-overlapping occurrences of substring sub in\n",
      " |      string S[start:end].  Optional arguments start and end are\n",
      " |      interpreted as in slice notation.\n",
      " |  \n",
      " |  encode(self, /, encoding='utf-8', errors='strict')\n",
      " |      Encode the string using the codec registered for encoding.\n",
      " |      \n",
      " |      encoding\n",
      " |        The encoding in which to encode the string.\n",
      " |      errors\n",
      " |        The error handling scheme to use for encoding errors.\n",
      " |        The default is 'strict' meaning that encoding errors raise a\n",
      " |        UnicodeEncodeError.  Other possible values are 'ignore', 'replace' and\n",
      " |        'xmlcharrefreplace' as well as any other name registered with\n",
      " |        codecs.register_error that can handle UnicodeEncodeErrors.\n",
      " |  \n",
      " |  endswith(...)\n",
      " |      S.endswith(suffix[, start[, end]]) -> bool\n",
      " |      \n",
      " |      Return True if S ends with the specified suffix, False otherwise.\n",
      " |      With optional start, test S beginning at that position.\n",
      " |      With optional end, stop comparing S at that position.\n",
      " |      suffix can also be a tuple of strings to try.\n",
      " |  \n",
      " |  expandtabs(self, /, tabsize=8)\n",
      " |      Return a copy where all tab characters are expanded using spaces.\n",
      " |      \n",
      " |      If tabsize is not given, a tab size of 8 characters is assumed.\n",
      " |  \n",
      " |  find(...)\n",
      " |      S.find(sub[, start[, end]]) -> int\n",
      " |      \n",
      " |      Return the lowest index in S where substring sub is found,\n",
      " |      such that sub is contained within S[start:end].  Optional\n",
      " |      arguments start and end are interpreted as in slice notation.\n",
      " |      \n",
      " |      Return -1 on failure.\n",
      " |  \n",
      " |  format(...)\n",
      " |      S.format(*args, **kwargs) -> str\n",
      " |      \n",
      " |      Return a formatted version of S, using substitutions from args and kwargs.\n",
      " |      The substitutions are identified by braces ('{' and '}').\n",
      " |  \n",
      " |  format_map(...)\n",
      " |      S.format_map(mapping) -> str\n",
      " |      \n",
      " |      Return a formatted version of S, using substitutions from mapping.\n",
      " |      The substitutions are identified by braces ('{' and '}').\n",
      " |  \n",
      " |  index(...)\n",
      " |      S.index(sub[, start[, end]]) -> int\n",
      " |      \n",
      " |      Return the lowest index in S where substring sub is found, \n",
      " |      such that sub is contained within S[start:end].  Optional\n",
      " |      arguments start and end are interpreted as in slice notation.\n",
      " |      \n",
      " |      Raises ValueError when the substring is not found.\n",
      " |  \n",
      " |  isalnum(self, /)\n",
      " |      Return True if the string is an alpha-numeric string, False otherwise.\n",
      " |      \n",
      " |      A string is alpha-numeric if all characters in the string are alpha-numeric and\n",
      " |      there is at least one character in the string.\n",
      " |  \n",
      " |  isalpha(self, /)\n",
      " |      Return True if the string is an alphabetic string, False otherwise.\n",
      " |      \n",
      " |      A string is alphabetic if all characters in the string are alphabetic and there\n",
      " |      is at least one character in the string.\n",
      " |  \n",
      " |  isascii(self, /)\n",
      " |      Return True if all characters in the string are ASCII, False otherwise.\n",
      " |      \n",
      " |      ASCII characters have code points in the range U+0000-U+007F.\n",
      " |      Empty string is ASCII too.\n",
      " |  \n",
      " |  isdecimal(self, /)\n",
      " |      Return True if the string is a decimal string, False otherwise.\n",
      " |      \n",
      " |      A string is a decimal string if all characters in the string are decimal and\n",
      " |      there is at least one character in the string.\n",
      " |  \n",
      " |  isdigit(self, /)\n",
      " |      Return True if the string is a digit string, False otherwise.\n",
      " |      \n",
      " |      A string is a digit string if all characters in the string are digits and there\n",
      " |      is at least one character in the string.\n",
      " |  \n",
      " |  isidentifier(self, /)\n",
      " |      Return True if the string is a valid Python identifier, False otherwise.\n",
      " |      \n",
      " |      Use keyword.iskeyword() to test for reserved identifiers such as \"def\" and\n",
      " |      \"class\".\n",
      " |  \n",
      " |  islower(self, /)\n",
      " |      Return True if the string is a lowercase string, False otherwise.\n",
      " |      \n",
      " |      A string is lowercase if all cased characters in the string are lowercase and\n",
      " |      there is at least one cased character in the string.\n",
      " |  \n",
      " |  isnumeric(self, /)\n",
      " |      Return True if the string is a numeric string, False otherwise.\n",
      " |      \n",
      " |      A string is numeric if all characters in the string are numeric and there is at\n",
      " |      least one character in the string.\n",
      " |  \n",
      " |  isprintable(self, /)\n",
      " |      Return True if the string is printable, False otherwise.\n",
      " |      \n",
      " |      A string is printable if all of its characters are considered printable in\n",
      " |      repr() or if it is empty.\n",
      " |  \n",
      " |  isspace(self, /)\n",
      " |      Return True if the string is a whitespace string, False otherwise.\n",
      " |      \n",
      " |      A string is whitespace if all characters in the string are whitespace and there\n",
      " |      is at least one character in the string.\n",
      " |  \n",
      " |  istitle(self, /)\n",
      " |      Return True if the string is a title-cased string, False otherwise.\n",
      " |      \n",
      " |      In a title-cased string, upper- and title-case characters may only\n",
      " |      follow uncased characters and lowercase characters only cased ones.\n",
      " |  \n",
      " |  isupper(self, /)\n",
      " |      Return True if the string is an uppercase string, False otherwise.\n",
      " |      \n",
      " |      A string is uppercase if all cased characters in the string are uppercase and\n",
      " |      there is at least one cased character in the string.\n",
      " |  \n",
      " |  join(self, iterable, /)\n",
      " |      Concatenate any number of strings.\n",
      " |      \n",
      " |      The string whose method is called is inserted in between each given string.\n",
      " |      The result is returned as a new string.\n",
      " |      \n",
      " |      Example: '.'.join(['ab', 'pq', 'rs']) -> 'ab.pq.rs'\n",
      " |  \n",
      " |  ljust(self, width, fillchar=' ', /)\n",
      " |      Return a left-justified string of length width.\n",
      " |      \n",
      " |      Padding is done using the specified fill character (default is a space).\n",
      " |  \n",
      " |  lower(self, /)\n",
      " |      Return a copy of the string converted to lowercase.\n",
      " |  \n",
      " |  lstrip(self, chars=None, /)\n",
      " |      Return a copy of the string with leading whitespace removed.\n",
      " |      \n",
      " |      If chars is given and not None, remove characters in chars instead.\n",
      " |  \n",
      " |  partition(self, sep, /)\n",
      " |      Partition the string into three parts using the given separator.\n",
      " |      \n",
      " |      This will search for the separator in the string.  If the separator is found,\n",
      " |      returns a 3-tuple containing the part before the separator, the separator\n",
      " |      itself, and the part after it.\n",
      " |      \n",
      " |      If the separator is not found, returns a 3-tuple containing the original string\n",
      " |      and two empty strings.\n",
      " |  \n",
      " |  replace(self, old, new, count=-1, /)\n",
      " |      Return a copy with all occurrences of substring old replaced by new.\n",
      " |      \n",
      " |        count\n",
      " |          Maximum number of occurrences to replace.\n",
      " |          -1 (the default value) means replace all occurrences.\n",
      " |      \n",
      " |      If the optional argument count is given, only the first count occurrences are\n",
      " |      replaced.\n",
      " |  \n",
      " |  rfind(...)\n",
      " |      S.rfind(sub[, start[, end]]) -> int\n",
      " |      \n",
      " |      Return the highest index in S where substring sub is found,\n",
      " |      such that sub is contained within S[start:end].  Optional\n",
      " |      arguments start and end are interpreted as in slice notation.\n",
      " |      \n",
      " |      Return -1 on failure.\n",
      " |  \n",
      " |  rindex(...)\n",
      " |      S.rindex(sub[, start[, end]]) -> int\n",
      " |      \n",
      " |      Return the highest index in S where substring sub is found,\n",
      " |      such that sub is contained within S[start:end].  Optional\n",
      " |      arguments start and end are interpreted as in slice notation.\n",
      " |      \n",
      " |      Raises ValueError when the substring is not found.\n",
      " |  \n",
      " |  rjust(self, width, fillchar=' ', /)\n",
      " |      Return a right-justified string of length width.\n",
      " |      \n",
      " |      Padding is done using the specified fill character (default is a space).\n",
      " |  \n",
      " |  rpartition(self, sep, /)\n",
      " |      Partition the string into three parts using the given separator.\n",
      " |      \n",
      " |      This will search for the separator in the string, starting at the end. If\n",
      " |      the separator is found, returns a 3-tuple containing the part before the\n",
      " |      separator, the separator itself, and the part after it.\n",
      " |      \n",
      " |      If the separator is not found, returns a 3-tuple containing two empty strings\n",
      " |      and the original string.\n",
      " |  \n",
      " |  rsplit(self, /, sep=None, maxsplit=-1)\n",
      " |      Return a list of the words in the string, using sep as the delimiter string.\n",
      " |      \n",
      " |        sep\n",
      " |          The delimiter according which to split the string.\n",
      " |          None (the default value) means split according to any whitespace,\n",
      " |          and discard empty strings from the result.\n",
      " |        maxsplit\n",
      " |          Maximum number of splits to do.\n",
      " |          -1 (the default value) means no limit.\n",
      " |      \n",
      " |      Splits are done starting at the end of the string and working to the front.\n",
      " |  \n",
      " |  rstrip(self, chars=None, /)\n",
      " |      Return a copy of the string with trailing whitespace removed.\n",
      " |      \n",
      " |      If chars is given and not None, remove characters in chars instead.\n",
      " |  \n",
      " |  split(self, /, sep=None, maxsplit=-1)\n",
      " |      Return a list of the words in the string, using sep as the delimiter string.\n",
      " |      \n",
      " |      sep\n",
      " |        The delimiter according which to split the string.\n",
      " |        None (the default value) means split according to any whitespace,\n",
      " |        and discard empty strings from the result.\n",
      " |      maxsplit\n",
      " |        Maximum number of splits to do.\n",
      " |        -1 (the default value) means no limit.\n",
      " |  \n",
      " |  splitlines(self, /, keepends=False)\n",
      " |      Return a list of the lines in the string, breaking at line boundaries.\n",
      " |      \n",
      " |      Line breaks are not included in the resulting list unless keepends is given and\n",
      " |      true.\n",
      " |  \n",
      " |  startswith(...)\n",
      " |      S.startswith(prefix[, start[, end]]) -> bool\n",
      " |      \n",
      " |      Return True if S starts with the specified prefix, False otherwise.\n",
      " |      With optional start, test S beginning at that position.\n",
      " |      With optional end, stop comparing S at that position.\n",
      " |      prefix can also be a tuple of strings to try.\n",
      " |  \n",
      " |  strip(self, chars=None, /)\n",
      " |      Return a copy of the string with leading and trailing whitespace remove.\n",
      " |      \n",
      " |      If chars is given and not None, remove characters in chars instead.\n",
      " |  \n",
      " |  swapcase(self, /)\n",
      " |      Convert uppercase characters to lowercase and lowercase characters to uppercase.\n",
      " |  \n",
      " |  title(self, /)\n",
      " |      Return a version of the string where each word is titlecased.\n",
      " |      \n",
      " |      More specifically, words start with uppercased characters and all remaining\n",
      " |      cased characters have lower case.\n",
      " |  \n",
      " |  translate(self, table, /)\n",
      " |      Replace each character in the string using the given translation table.\n",
      " |      \n",
      " |        table\n",
      " |          Translation table, which must be a mapping of Unicode ordinals to\n",
      " |          Unicode ordinals, strings, or None.\n",
      " |      \n",
      " |      The table must implement lookup/indexing via __getitem__, for instance a\n",
      " |      dictionary or list.  If this operation raises LookupError, the character is\n",
      " |      left untouched.  Characters mapped to None are deleted.\n",
      " |  \n",
      " |  upper(self, /)\n",
      " |      Return a copy of the string converted to uppercase.\n",
      " |  \n",
      " |  zfill(self, width, /)\n",
      " |      Pad a numeric string with zeros on the left, to fill a field of the given width.\n",
      " |      \n",
      " |      The string is never truncated.\n",
      " |  \n",
      " |  ----------------------------------------------------------------------\n",
      " |  Static methods defined here:\n",
      " |  \n",
      " |  __new__(*args, **kwargs) from builtins.type\n",
      " |      Create and return a new object.  See help(type) for accurate signature.\n",
      " |  \n",
      " |  maketrans(x, y=None, z=None, /)\n",
      " |      Return a translation table usable for str.translate().\n",
      " |      \n",
      " |      If there is only one argument, it must be a dictionary mapping Unicode\n",
      " |      ordinals (integers) or characters to Unicode ordinals, strings or None.\n",
      " |      Character keys will be then converted to ordinals.\n",
      " |      If there are two arguments, they must be strings of equal length, and\n",
      " |      in the resulting dictionary, each character in x will be mapped to the\n",
      " |      character at the same position in y. If there is a third argument, it\n",
      " |      must be a string, whose characters will be mapped to None in the result.\n",
      "\n",
      "None\n"
     ]
    }
   ],
   "source": [
    "print(help(str))"
   ]
  },
  {
   "cell_type": "code",
   "execution_count": 46,
   "metadata": {},
   "outputs": [
    {
     "name": "stdout",
     "output_type": "stream",
     "text": [
      "raju somu murali "
     ]
    }
   ],
   "source": [
    "import re\n",
    "p='^[a-z]{1,}$'\n",
    "s=['9','7','20','raju','somu','murali','workshop123']\n",
    "for i in s:\n",
    "    if re.match(p,i):\n",
    "        print(i,end=\" \")\n",
    "    #if str(i).isalpha():\n",
    "      #  s1.append(\"\".join(i))"
   ]
  },
  {
   "cell_type": "code",
   "execution_count": 47,
   "metadata": {},
   "outputs": [
    {
     "name": "stdout",
     "output_type": "stream",
     "text": [
      "{8, 5, 7}\n",
      "{8, 5, 7}\n",
      "{1, 2, 4, 5, 7, 8}\n",
      "{1, 2, 4, 100, 101, 145, 123}\n"
     ]
    }
   ],
   "source": [
    "s={4,2,1,5,7,8}\n",
    "s1={100,145,123,101,145,4,2,1}\n",
    "print(s.difference(s1))\n",
    "print(s.difference(s1))\n",
    "print(s)\n",
    "print(s1)"
   ]
  },
  {
   "cell_type": "code",
   "execution_count": 55,
   "metadata": {},
   "outputs": [
    {
     "name": "stdout",
     "output_type": "stream",
     "text": [
      "{1, 2, 4, 100, 101, 145, 123}\n",
      "None\n"
     ]
    }
   ],
   "source": [
    "s={4,2,1,5,7,8}\n",
    "s1={100,145,123,101,145,4,2,1}\n",
    "s=s.difference_update(s1)\n",
    "print(s1)\n",
    "print(s)"
   ]
  },
  {
   "cell_type": "code",
   "execution_count": 56,
   "metadata": {},
   "outputs": [
    {
     "name": "stdout",
     "output_type": "stream",
     "text": [
      "{1, 2, 4, 5, 7, 8}\n",
      "None\n"
     ]
    }
   ],
   "source": [
    "s={4,2,1,5,7,8}\n",
    "s1={100,145,123,101,145,4,2,1}\n",
    "s1=s1.difference_update(s)\n",
    "print(s)\n",
    "print(s1)"
   ]
  },
  {
   "cell_type": "code",
   "execution_count": 57,
   "metadata": {},
   "outputs": [
    {
     "name": "stdout",
     "output_type": "stream",
     "text": [
      "{1, 2, 4}\n",
      "{1, 2, 4}\n",
      "{1, 2, 4, 5, 7, 8}\n",
      "{1, 2, 4, 100, 101, 145, 123}\n"
     ]
    }
   ],
   "source": [
    "s={4,2,1,5,7,8}\n",
    "s1={100,145,123,101,145,4,2,1}\n",
    "print(s1.intersection(s))\n",
    "print(s.intersection(s1))\n",
    "print(s)\n",
    "print(s1)"
   ]
  },
  {
   "cell_type": "code",
   "execution_count": 60,
   "metadata": {},
   "outputs": [
    {
     "name": "stdout",
     "output_type": "stream",
     "text": [
      "None\n",
      "{1, 2, 4, 5, 7, 8}\n"
     ]
    }
   ],
   "source": [
    "s={4,2,1,5,7,8}\n",
    "s1={100,145,123,101,145,4,2,1}\n",
    "s1=s1.intersection_update(s)\n",
    "print(s1)\n",
    "print(s)"
   ]
  },
  {
   "cell_type": "code",
   "execution_count": 59,
   "metadata": {},
   "outputs": [
    {
     "name": "stdout",
     "output_type": "stream",
     "text": [
      "None\n",
      "{1, 2, 4, 100, 101, 145, 123}\n"
     ]
    }
   ],
   "source": [
    "s={4,2,1,5,7,8}\n",
    "s1={100,145,123,101,145,4,2,1}\n",
    "s=s.intersection_update(s1)\n",
    "print(s)\n",
    "print(s1)"
   ]
  },
  {
   "cell_type": "code",
   "execution_count": 61,
   "metadata": {},
   "outputs": [
    {
     "name": "stdout",
     "output_type": "stream",
     "text": [
      "{1, 2, 4}\n",
      "None\n"
     ]
    }
   ],
   "source": [
    "s={4,2,1,5,7,8}\n",
    "s1={100,145,123,101,145,4,2,1}\n",
    "s1=s.intersection_update(s1)\n",
    "print(s)\n",
    "print(s1)"
   ]
  },
  {
   "cell_type": "code",
   "execution_count": 63,
   "metadata": {},
   "outputs": [
    {
     "name": "stdout",
     "output_type": "stream",
     "text": [
      "{1, 2, 4, 5, 100, 7, 8, 101, 145, 123}\n",
      "{1, 2, 4, 5, 7, 8}\n",
      "{1, 2, 4, 100, 101, 145, 123}\n"
     ]
    }
   ],
   "source": [
    "s={4,2,1,5,7,8}\n",
    "s1={100,145,123,101,145,4,2,1}\n",
    "print(s.union(s1))\n",
    "print(s)\n",
    "print(s1)"
   ]
  },
  {
   "cell_type": "code",
   "execution_count": 65,
   "metadata": {},
   "outputs": [
    {
     "name": "stdout",
     "output_type": "stream",
     "text": [
      "{1, 2, 4, 5, 100, 7, 8, 101, 145, 123}\n",
      "{1, 2, 4, 100, 101, 145, 123}\n"
     ]
    }
   ],
   "source": [
    "s={4,2,1,5,7,8}\n",
    "s1={100,145,123,101,145,4,2,1}\n",
    "s.update(s1)\n",
    "print(s)\n",
    "print(s1)"
   ]
  },
  {
   "cell_type": "code",
   "execution_count": 66,
   "metadata": {},
   "outputs": [
    {
     "name": "stdout",
     "output_type": "stream",
     "text": [
      "{100, 101, 5, 7, 8, 145, 123}\n",
      "{1, 2, 4, 5, 7, 8}\n",
      "{1, 2, 4, 100, 101, 145, 123}\n"
     ]
    }
   ],
   "source": [
    "s={4,2,1,5,7,8}\n",
    "s1={100,145,123,101,145,4,2,1}\n",
    "print(s.symmetric_difference(s1))\n",
    "print(s)\n",
    "print(s1)"
   ]
  },
  {
   "cell_type": "code",
   "execution_count": 67,
   "metadata": {},
   "outputs": [
    {
     "name": "stdout",
     "output_type": "stream",
     "text": [
      "{100, 101, 5, 7, 8, 145, 123}\n",
      "{1, 2, 4, 100, 101, 145, 123}\n"
     ]
    }
   ],
   "source": [
    "s={4,2,1,5,7,8}\n",
    "s1={100,145,123,101,145,4,2,1}\n",
    "s=s.symmetric_difference(s1)\n",
    "print(s)\n",
    "print(s1)"
   ]
  },
  {
   "cell_type": "markdown",
   "metadata": {},
   "source": [
    "# Dictionary:\n",
    "```\n",
    "    - Collection of key and value pairs\n",
    "    - It can be define as {} and typecast as dict()\n",
    "    - It can cahnges the value by key,Slicing can be done only on key and values\n",
    "    - Ordered type of data is to be stored but it is in key value pairs\n",
    "    - It does not allows the duplicate keys\n",
    "    ```"
   ]
  },
  {
   "cell_type": "code",
   "execution_count": 89,
   "metadata": {},
   "outputs": [
    {
     "name": "stdout",
     "output_type": "stream",
     "text": [
      "{'name': ['rajesh', 'somu'], 'age': 24, 'year': '2nd year'}\n",
      "name age year \n",
      "('name', ['rajesh', 'somu']) ('age', 24) ('year', '2nd year') \n",
      "['rajesh', 'somu'] 24 2nd year \n",
      "['rajesh', 'somu']\n",
      "24\n",
      "{'name': ['rajesh', 'somu'], 'year': '2nd year'}\n",
      "{'name': ['rajesh', 'somu']}\n",
      "{'name': ['rajesh', 'somu'], 'surname': 'velaga'}\n",
      "{'name': ['rajesh', 'somu'], 'surname': 'velaga', 's': None}\n",
      "{'name': ['rajesh', 'somu'], 'surname': 'velaga', 's': None}\n"
     ]
    }
   ],
   "source": [
    "h={'name':['rajesh','somu'],'age':24,'year':'2nd year'}\n",
    "print(h,end=\"\\n\")\n",
    "for j in h.keys():\n",
    "    print(j,end=\" \")\n",
    "print(end=\"\\n\")\n",
    "for i in h.items():\n",
    "    print(i,end=\" \")\n",
    "print(end=\"\\n\")\n",
    "for i in h.values():\n",
    "    print(i,end=\" \")\n",
    "print(end=\"\\n\")\n",
    "print(h.get('name'),end=\"\\n\")\n",
    "print(h.get('age'),end=\"\\n\")#passing key as parameter\n",
    "h.pop('age')\n",
    "print(h)\n",
    "h.popitem()#takes no argument and pop an item from last in dictionary \n",
    "print(h)\n",
    "h['surname']='velaga'#pass key as argument so that it is updated in dictionary\n",
    "print(h)\n",
    "h.setdefault('s')#key is updated with no value\n",
    "print(h)"
   ]
  },
  {
   "cell_type": "code",
   "execution_count": 90,
   "metadata": {},
   "outputs": [
    {
     "data": {
      "text/plain": [
       "{'n': None, 'a': None, 'm': None, 'e': None}"
      ]
     },
     "execution_count": 90,
     "metadata": {},
     "output_type": "execute_result"
    }
   ],
   "source": [
    "h.fromkeys('name')"
   ]
  },
  {
   "cell_type": "code",
   "execution_count": null,
   "metadata": {},
   "outputs": [],
   "source": []
  }
 ],
 "metadata": {
  "kernelspec": {
   "display_name": "Python 3",
   "language": "python",
   "name": "python3"
  },
  "language_info": {
   "codemirror_mode": {
    "name": "ipython",
    "version": 3
   },
   "file_extension": ".py",
   "mimetype": "text/x-python",
   "name": "python",
   "nbconvert_exporter": "python",
   "pygments_lexer": "ipython3",
   "version": "3.7.4"
  }
 },
 "nbformat": 4,
 "nbformat_minor": 2
}
